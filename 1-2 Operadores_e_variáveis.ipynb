{
 "cells": [
  {
   "cell_type": "markdown",
   "metadata": {
    "id": "v04m0rRmTbOh"
   },
   "source": [
    "**Variáveis**\n",
    "\n",
    "3 tipos:\n",
    "- int (numero inteiro)\n",
    "- float (numero com decimal)\n",
    "- string (texto)\n",
    "\n",
    "concatenação -> juntar strings\n",
    "\n",
    "para conseguir juntar numeros com string precisa transformar\n"
   ]
  },
  {
   "cell_type": "markdown",
   "metadata": {
    "id": "kptZSKTGIz69"
   },
   "source": [
    "**Operadores Aritméticos**"
   ]
  },
  {
   "cell_type": "code",
   "execution_count": null,
   "metadata": {
    "colab": {
     "base_uri": "https://localhost:8080/"
    },
    "executionInfo": {
     "elapsed": 13,
     "status": "ok",
     "timestamp": 1751382248440,
     "user": {
      "displayName": "Andreza Costa",
      "userId": "11584279766690832610"
     },
     "user_tz": 180
    },
    "id": "NIWcfYFxIa8Q",
    "outputId": "dbbe274e-8859-473d-bb98-99ce363d1890"
   },
   "outputs": [
    {
     "data": {
      "text/plain": [
       "12"
      ]
     },
     "execution_count": 1,
     "metadata": {},
     "output_type": "execute_result"
    }
   ],
   "source": [
    "# Adição\n",
    "10 + 2"
   ]
  },
  {
   "cell_type": "code",
   "execution_count": null,
   "metadata": {
    "colab": {
     "base_uri": "https://localhost:8080/"
    },
    "executionInfo": {
     "elapsed": 4,
     "status": "ok",
     "timestamp": 1746711808396,
     "user": {
      "displayName": "Andreza Costa",
      "userId": "11584279766690832610"
     },
     "user_tz": 180
    },
    "id": "dxXkDfcVIlOg",
    "outputId": "0582b128-97e2-496e-83b8-0c5136a74eae"
   },
   "outputs": [
    {
     "data": {
      "text/plain": [
       "8"
      ]
     },
     "execution_count": 3,
     "metadata": {},
     "output_type": "execute_result"
    }
   ],
   "source": [
    "# Subtração\n",
    "10 - 2"
   ]
  },
  {
   "cell_type": "code",
   "execution_count": null,
   "metadata": {
    "colab": {
     "base_uri": "https://localhost:8080/"
    },
    "executionInfo": {
     "elapsed": 10,
     "status": "ok",
     "timestamp": 1746711858090,
     "user": {
      "displayName": "Andreza Costa",
      "userId": "11584279766690832610"
     },
     "user_tz": 180
    },
    "id": "NXjiP3tpIwhf",
    "outputId": "86d0a77e-a562-489a-d2f2-698c097f9e0f"
   },
   "outputs": [
    {
     "data": {
      "text/plain": [
       "20"
      ]
     },
     "execution_count": 4,
     "metadata": {},
     "output_type": "execute_result"
    }
   ],
   "source": [
    "# Multiplicação\n",
    "10 * 2"
   ]
  },
  {
   "cell_type": "code",
   "execution_count": null,
   "metadata": {
    "colab": {
     "base_uri": "https://localhost:8080/"
    },
    "executionInfo": {
     "elapsed": 167,
     "status": "ok",
     "timestamp": 1746711872043,
     "user": {
      "displayName": "Andreza Costa",
      "userId": "11584279766690832610"
     },
     "user_tz": 180
    },
    "id": "Fcr1xWhbI8nI",
    "outputId": "dd7dd413-599f-4726-9d25-7ccb01c50930"
   },
   "outputs": [
    {
     "data": {
      "text/plain": [
       "5.0"
      ]
     },
     "execution_count": 5,
     "metadata": {},
     "output_type": "execute_result"
    }
   ],
   "source": [
    "# Divisão\n",
    "10 / 2"
   ]
  },
  {
   "cell_type": "code",
   "execution_count": null,
   "metadata": {
    "colab": {
     "base_uri": "https://localhost:8080/"
    },
    "executionInfo": {
     "elapsed": 44,
     "status": "ok",
     "timestamp": 1746711888735,
     "user": {
      "displayName": "Andreza Costa",
      "userId": "11584279766690832610"
     },
     "user_tz": 180
    },
    "id": "6R4ZaioQJABX",
    "outputId": "f7d53b46-0f10-4615-8053-debed93605e7"
   },
   "outputs": [
    {
     "data": {
      "text/plain": [
       "5"
      ]
     },
     "execution_count": 6,
     "metadata": {},
     "output_type": "execute_result"
    }
   ],
   "source": [
    "# Divisão inteira\n",
    "10 // 2"
   ]
  },
  {
   "cell_type": "code",
   "execution_count": null,
   "metadata": {
    "colab": {
     "base_uri": "https://localhost:8080/"
    },
    "executionInfo": {
     "elapsed": 10,
     "status": "ok",
     "timestamp": 1746711926513,
     "user": {
      "displayName": "Andreza Costa",
      "userId": "11584279766690832610"
     },
     "user_tz": 180
    },
    "id": "aQ5dmyZqJEIH",
    "outputId": "706a4964-2cf9-4216-bc77-50d577840d81"
   },
   "outputs": [
    {
     "data": {
      "text/plain": [
       "0"
      ]
     },
     "execution_count": 7,
     "metadata": {},
     "output_type": "execute_result"
    }
   ],
   "source": [
    "# Resto da divisão\n",
    "10 % 2"
   ]
  },
  {
   "cell_type": "code",
   "execution_count": null,
   "metadata": {
    "colab": {
     "base_uri": "https://localhost:8080/"
    },
    "executionInfo": {
     "elapsed": 7,
     "status": "ok",
     "timestamp": 1746712425078,
     "user": {
      "displayName": "Andreza Costa",
      "userId": "11584279766690832610"
     },
     "user_tz": 180
    },
    "id": "nECWBQ5fJMVG",
    "outputId": "9964e1d3-c1e3-4b87-a546-6f58d6791d60"
   },
   "outputs": [
    {
     "data": {
      "text/plain": [
       "100"
      ]
     },
     "execution_count": 9,
     "metadata": {},
     "output_type": "execute_result"
    }
   ],
   "source": [
    "# Potenciação\n",
    "10 ** 2"
   ]
  },
  {
   "cell_type": "markdown",
   "metadata": {
    "id": "q7kIsDecLKNZ"
   },
   "source": [
    "**Operadores Relacionais**\n",
    "- (==) igual\n",
    "- (!=) diferente\n",
    "- (>) maior que\n",
    "- (<) menor que\n",
    "- (>=) maior ou igual\n",
    "- (<=) menor ou igual"
   ]
  },
  {
   "cell_type": "code",
   "execution_count": null,
   "metadata": {
    "colab": {
     "base_uri": "https://localhost:8080/"
    },
    "executionInfo": {
     "elapsed": 16,
     "status": "ok",
     "timestamp": 1751382502373,
     "user": {
      "displayName": "Andreza Costa",
      "userId": "11584279766690832610"
     },
     "user_tz": 180
    },
    "id": "P3FE1DefLHEX",
    "outputId": "b1d8c9cf-70f1-43b8-a621-74f1296e5b5a"
   },
   "outputs": [
    {
     "data": {
      "text/plain": [
       "True"
      ]
     },
     "execution_count": 3,
     "metadata": {},
     "output_type": "execute_result"
    }
   ],
   "source": [
    "# Menor\n",
    "1 < 2"
   ]
  },
  {
   "cell_type": "code",
   "execution_count": null,
   "metadata": {
    "colab": {
     "base_uri": "https://localhost:8080/"
    },
    "executionInfo": {
     "elapsed": 14,
     "status": "ok",
     "timestamp": 1751382555910,
     "user": {
      "displayName": "Andreza Costa",
      "userId": "11584279766690832610"
     },
     "user_tz": 180
    },
    "id": "z7onbdBRiD-U",
    "outputId": "c33ef8be-3318-47d5-8e66-f70d908b384f"
   },
   "outputs": [
    {
     "data": {
      "text/plain": [
       "True"
      ]
     },
     "execution_count": 5,
     "metadata": {},
     "output_type": "execute_result"
    }
   ],
   "source": [
    "# Menor ou igual\n",
    "1 <= 10"
   ]
  },
  {
   "cell_type": "code",
   "execution_count": null,
   "metadata": {
    "colab": {
     "base_uri": "https://localhost:8080/"
    },
    "executionInfo": {
     "elapsed": 15,
     "status": "ok",
     "timestamp": 1751382571608,
     "user": {
      "displayName": "Andreza Costa",
      "userId": "11584279766690832610"
     },
     "user_tz": 180
    },
    "id": "KajHGnrEiQoe",
    "outputId": "8e547597-bd7f-4824-b1fb-ba6c0110e540"
   },
   "outputs": [
    {
     "data": {
      "text/plain": [
       "True"
      ]
     },
     "execution_count": 6,
     "metadata": {},
     "output_type": "execute_result"
    }
   ],
   "source": [
    "# Maior\n",
    "2>1"
   ]
  },
  {
   "cell_type": "code",
   "execution_count": null,
   "metadata": {
    "colab": {
     "base_uri": "https://localhost:8080/"
    },
    "executionInfo": {
     "elapsed": 8,
     "status": "ok",
     "timestamp": 1751382593071,
     "user": {
      "displayName": "Andreza Costa",
      "userId": "11584279766690832610"
     },
     "user_tz": 180
    },
    "id": "rcBQfiZliUJ-",
    "outputId": "bcf5fa54-b60b-46e0-9e15-16b6f5e16be2"
   },
   "outputs": [
    {
     "data": {
      "text/plain": [
       "True"
      ]
     },
     "execution_count": 7,
     "metadata": {},
     "output_type": "execute_result"
    }
   ],
   "source": [
    "# Maior ou igual\n",
    "2 >= 2"
   ]
  },
  {
   "cell_type": "code",
   "execution_count": null,
   "metadata": {
    "colab": {
     "base_uri": "https://localhost:8080/"
    },
    "executionInfo": {
     "elapsed": 45,
     "status": "ok",
     "timestamp": 1751382607320,
     "user": {
      "displayName": "Andreza Costa",
      "userId": "11584279766690832610"
     },
     "user_tz": 180
    },
    "id": "k0UfAI34iZWm",
    "outputId": "0c0c69e5-0500-41e7-9f87-c4a1446efc3f"
   },
   "outputs": [
    {
     "data": {
      "text/plain": [
       "True"
      ]
     },
     "execution_count": 8,
     "metadata": {},
     "output_type": "execute_result"
    }
   ],
   "source": [
    "# Igual\n",
    "5==5"
   ]
  },
  {
   "cell_type": "code",
   "execution_count": null,
   "metadata": {
    "colab": {
     "base_uri": "https://localhost:8080/"
    },
    "executionInfo": {
     "elapsed": 10,
     "status": "ok",
     "timestamp": 1751382622106,
     "user": {
      "displayName": "Andreza Costa",
      "userId": "11584279766690832610"
     },
     "user_tz": 180
    },
    "id": "l0JQD94xiczV",
    "outputId": "50062659-1ce4-4d05-e778-a13be48e6515"
   },
   "outputs": [
    {
     "data": {
      "text/plain": [
       "True"
      ]
     },
     "execution_count": 9,
     "metadata": {},
     "output_type": "execute_result"
    }
   ],
   "source": [
    "# Diferente\n",
    "5!=8"
   ]
  },
  {
   "cell_type": "markdown",
   "metadata": {
    "id": "5TDvnDNAj-Vq"
   },
   "source": [
    "**Operadores lógicos**\n",
    "\n",
    "\n",
    "* And\n",
    "* Or\n",
    "* Not"
   ]
  },
  {
   "cell_type": "markdown",
   "metadata": {
    "id": "bL2CopSLkUz4"
   },
   "source": [
    "**Tabela da verdade**"
   ]
  },
  {
   "cell_type": "markdown",
   "metadata": {
    "id": "uKcaHV98kzp_"
   },
   "source": [
    "**And** ( se uma das condições for false, é false)\n",
    "- **Entrada 1 / Entrada 2 / operação / saída**\n",
    "- True / True / True and True / True\n",
    "- True / False / True and False / False\n",
    "- False / False / False and False / False"
   ]
  },
  {
   "cell_type": "code",
   "execution_count": null,
   "metadata": {
    "colab": {
     "base_uri": "https://localhost:8080/"
    },
    "executionInfo": {
     "elapsed": 45,
     "status": "ok",
     "timestamp": 1751383211664,
     "user": {
      "displayName": "Andreza Costa",
      "userId": "11584279766690832610"
     },
     "user_tz": 180
    },
    "id": "qIvDW4K-kYyw",
    "outputId": "5d284dd8-98e3-4241-fb84-73d47576a972"
   },
   "outputs": [
    {
     "name": "stdout",
     "output_type": "stream",
     "text": [
      "True\n"
     ]
    }
   ],
   "source": [
    "print(10>2 and 4<6) # True and True = T"
   ]
  },
  {
   "cell_type": "code",
   "execution_count": null,
   "metadata": {
    "colab": {
     "base_uri": "https://localhost:8080/"
    },
    "executionInfo": {
     "elapsed": 14,
     "status": "ok",
     "timestamp": 1751383332865,
     "user": {
      "displayName": "Andreza Costa",
      "userId": "11584279766690832610"
     },
     "user_tz": 180
    },
    "id": "ShY0wp5dk4ST",
    "outputId": "2003b489-1284-4132-91e7-c0ce41c248d2"
   },
   "outputs": [
    {
     "name": "stdout",
     "output_type": "stream",
     "text": [
      "False\n"
     ]
    }
   ],
   "source": [
    "print(10>2 and 4>6) # True and False = F"
   ]
  },
  {
   "cell_type": "code",
   "execution_count": null,
   "metadata": {
    "colab": {
     "base_uri": "https://localhost:8080/"
    },
    "executionInfo": {
     "elapsed": 11,
     "status": "ok",
     "timestamp": 1751383398156,
     "user": {
      "displayName": "Andreza Costa",
      "userId": "11584279766690832610"
     },
     "user_tz": 180
    },
    "id": "OS2xlyN2lP8i",
    "outputId": "adbd2c66-e9ea-4605-ad8b-cc4376422be6"
   },
   "outputs": [
    {
     "name": "stdout",
     "output_type": "stream",
     "text": [
      "False\n"
     ]
    }
   ],
   "source": [
    "print(10<2 and 4<6) # False and True = F"
   ]
  },
  {
   "cell_type": "code",
   "execution_count": null,
   "metadata": {
    "colab": {
     "base_uri": "https://localhost:8080/"
    },
    "executionInfo": {
     "elapsed": 21,
     "status": "ok",
     "timestamp": 1751383443723,
     "user": {
      "displayName": "Andreza Costa",
      "userId": "11584279766690832610"
     },
     "user_tz": 180
    },
    "id": "TFQfiZR2lfEF",
    "outputId": "ff49cc87-e37a-4116-9beb-f0678b2f6a4c"
   },
   "outputs": [
    {
     "name": "stdout",
     "output_type": "stream",
     "text": [
      "False\n"
     ]
    }
   ],
   "source": [
    "print(10<2 and 4>6) # False and False = F"
   ]
  },
  {
   "cell_type": "markdown",
   "metadata": {
    "id": "lNvbpJgAlpo7"
   },
   "source": [
    "**Or** (se uma das condições for True, é True)\n",
    "- **Entrada 1 / Entrada 2 / operação / saída**\n",
    "- True / True / True or True / True\n",
    "- True / False / True or False / True\n",
    "- False / False / False or False / False"
   ]
  },
  {
   "cell_type": "code",
   "execution_count": null,
   "metadata": {
    "colab": {
     "base_uri": "https://localhost:8080/"
    },
    "executionInfo": {
     "elapsed": 14,
     "status": "ok",
     "timestamp": 1751383483315,
     "user": {
      "displayName": "Andreza Costa",
      "userId": "11584279766690832610"
     },
     "user_tz": 180
    },
    "id": "wYlZ_K0slsIA",
    "outputId": "c82ccaff-3911-496d-d0aa-80ea37bdf445"
   },
   "outputs": [
    {
     "name": "stdout",
     "output_type": "stream",
     "text": [
      "True\n"
     ]
    }
   ],
   "source": [
    "print(10>2 or 4<6) # True or True = T"
   ]
  },
  {
   "cell_type": "code",
   "execution_count": null,
   "metadata": {
    "colab": {
     "base_uri": "https://localhost:8080/"
    },
    "executionInfo": {
     "elapsed": 43,
     "status": "ok",
     "timestamp": 1751383506589,
     "user": {
      "displayName": "Andreza Costa",
      "userId": "11584279766690832610"
     },
     "user_tz": 180
    },
    "id": "v5nR6hvHly-4",
    "outputId": "6fc32489-0ac0-4e6b-8cb6-9b918b65ddb6"
   },
   "outputs": [
    {
     "name": "stdout",
     "output_type": "stream",
     "text": [
      "True\n"
     ]
    }
   ],
   "source": [
    "print(10>2 or 4>6) # True or False = T"
   ]
  },
  {
   "cell_type": "code",
   "execution_count": null,
   "metadata": {
    "colab": {
     "base_uri": "https://localhost:8080/"
    },
    "executionInfo": {
     "elapsed": 14,
     "status": "ok",
     "timestamp": 1751383562132,
     "user": {
      "displayName": "Andreza Costa",
      "userId": "11584279766690832610"
     },
     "user_tz": 180
    },
    "id": "scyzpHSQl4bI",
    "outputId": "010367f9-b8ea-4c3c-9756-d5eb2ab9b8c0"
   },
   "outputs": [
    {
     "name": "stdout",
     "output_type": "stream",
     "text": [
      "True\n"
     ]
    }
   ],
   "source": [
    "print (10<2 or 4<6) # False or True = T"
   ]
  },
  {
   "cell_type": "code",
   "execution_count": null,
   "metadata": {
    "colab": {
     "base_uri": "https://localhost:8080/"
    },
    "executionInfo": {
     "elapsed": 13,
     "status": "ok",
     "timestamp": 1751383589386,
     "user": {
      "displayName": "Andreza Costa",
      "userId": "11584279766690832610"
     },
     "user_tz": 180
    },
    "id": "BjA-6HEzmIiE",
    "outputId": "9ef848a3-6bc1-4ea7-8ce7-7ffe88fc3546"
   },
   "outputs": [
    {
     "name": "stdout",
     "output_type": "stream",
     "text": [
      "False\n"
     ]
    }
   ],
   "source": [
    "print(10<2 or 4>6) # False or False = F"
   ]
  },
  {
   "cell_type": "markdown",
   "metadata": {
    "id": "YoHwpGm6mNgh"
   },
   "source": [
    "**Not** (Negação)\n",
    "- **Entrada / Operação / Saída**\n",
    "- True / not true / False\n",
    "- False / not Flase / True\n"
   ]
  },
  {
   "cell_type": "code",
   "execution_count": 1,
   "metadata": {
    "colab": {
     "base_uri": "https://localhost:8080/"
    },
    "executionInfo": {
     "elapsed": 13,
     "status": "ok",
     "timestamp": 1751647957649,
     "user": {
      "displayName": "Andreza Costa",
      "userId": "11584279766690832610"
     },
     "user_tz": 180
    },
    "id": "aTVNcVTJmrZR",
    "outputId": "808fa6c6-6a5d-4fe8-a664-6faadfcf627a"
   },
   "outputs": [
    {
     "data": {
      "text/plain": [
       "False"
      ]
     },
     "execution_count": 1,
     "metadata": {},
     "output_type": "execute_result"
    }
   ],
   "source": [
    "not 10>2 # not True = F"
   ]
  },
  {
   "cell_type": "code",
   "execution_count": null,
   "metadata": {
    "colab": {
     "base_uri": "https://localhost:8080/"
    },
    "executionInfo": {
     "elapsed": 18,
     "status": "ok",
     "timestamp": 1751383766139,
     "user": {
      "displayName": "Andreza Costa",
      "userId": "11584279766690832610"
     },
     "user_tz": 180
    },
    "id": "0HN_rj-8m0Zd",
    "outputId": "186d02e6-bed6-40bb-fcb6-00f908f7a2b0"
   },
   "outputs": [
    {
     "data": {
      "text/plain": [
       "True"
      ]
     },
     "execution_count": 23,
     "metadata": {},
     "output_type": "execute_result"
    }
   ],
   "source": [
    "not 10<2 # not False = T\n"
   ]
  },
  {
   "cell_type": "markdown",
   "metadata": {
    "id": "wLPH0Cx10kgv"
   },
   "source": [
    "**Variáveis**"
   ]
  },
  {
   "cell_type": "markdown",
   "metadata": {
    "id": "8KKjWhYh0rQ6"
   },
   "source": [
    "Variáveis estão alocadas em espaços na memória"
   ]
  },
  {
   "cell_type": "code",
   "execution_count": null,
   "metadata": {
    "colab": {
     "base_uri": "https://localhost:8080/"
    },
    "executionInfo": {
     "elapsed": 13,
     "status": "ok",
     "timestamp": 1751388840220,
     "user": {
      "displayName": "Andreza Costa",
      "userId": "11584279766690832610"
     },
     "user_tz": 180
    },
    "id": "U8Ep34400pGk",
    "outputId": "a0b145b6-c767-4c16-b3c9-3fa6a58ef24b"
   },
   "outputs": [
    {
     "name": "stdout",
     "output_type": "stream",
     "text": [
      "10\n"
     ]
    }
   ],
   "source": [
    "# Nome da variável é \"x\"que armazena o valor 10 em um espaço de na memória\n",
    "x=10\n",
    "\n",
    "print(x) # utilizar a referencia no nome atribuído"
   ]
  },
  {
   "cell_type": "markdown",
   "metadata": {
    "id": "LprQsAfz6Z0S"
   },
   "source": [
    "Regras"
   ]
  },
  {
   "cell_type": "markdown",
   "metadata": {
    "id": "D4EydEuu6cVu"
   },
   "source": [
    "**Case Sensitive**\n",
    "\n",
    "- A!=a\n",
    "\n",
    "**Boas práticas com Variáveis**\n",
    "\n",
    "- Exemplo: Multiplicação de 2 números\n",
    "\n",
    "Não usar:\n",
    "- Multiplicação\n",
    "- MultiplicaçãoDeDoisNumeros\n",
    "- m\n",
    "\n",
    "Usar:\n",
    "\n",
    "- multiplicacao\n",
    "- mult\n",
    "- mult_total(snake_case)\n",
    "\n"
   ]
  },
  {
   "cell_type": "code",
   "execution_count": null,
   "metadata": {
    "id": "zwzDqswf6k2I"
   },
   "outputs": [],
   "source": []
  }
 ],
 "metadata": {
  "colab": {
   "authorship_tag": "ABX9TyP48hXDm8yNP0/S0u3suEct",
   "provenance": []
  },
  "kernelspec": {
   "display_name": "Python 3",
   "name": "python3"
  },
  "language_info": {
   "name": "python"
  }
 },
 "nbformat": 4,
 "nbformat_minor": 0
}
