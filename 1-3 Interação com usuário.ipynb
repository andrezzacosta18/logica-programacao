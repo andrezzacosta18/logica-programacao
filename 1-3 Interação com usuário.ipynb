{
 "cells": [
  {
   "cell_type": "markdown",
   "metadata": {
    "id": "4G8Qdhw59ACO"
   },
   "source": [
    "**Visualização de Varáveis e Textos**\n",
    "Para incluir variáveis dentro de texto, precisa usar o comando :\n",
    " - f-strings -> print(f\" Meu nome é {variável nome} e tenho {variável idade} anos.\n"
   ]
  },
  {
   "cell_type": "code",
   "execution_count": null,
   "metadata": {
    "colab": {
     "base_uri": "https://localhost:8080/"
    },
    "executionInfo": {
     "elapsed": 23,
     "status": "ok",
     "timestamp": 1751389883944,
     "user": {
      "displayName": "Andreza Costa",
      "userId": "11584279766690832610"
     },
     "user_tz": 180
    },
    "id": "l1wnmaRJ9Gcy",
    "outputId": "09da507c-d085-4ec6-957d-212da7dfdbba"
   },
   "outputs": [
    {
     "name": "stdout",
     "output_type": "stream",
     "text": [
      "Conhecendo o comando print\n",
      "8\n"
     ]
    }
   ],
   "source": [
    "print ('Conhecendo o comando print')\n",
    "\n",
    "x=8\n",
    "print(x)"
   ]
  },
  {
   "cell_type": "code",
   "execution_count": null,
   "metadata": {
    "colab": {
     "base_uri": "https://localhost:8080/"
    },
    "executionInfo": {
     "elapsed": 6,
     "status": "ok",
     "timestamp": 1751389911660,
     "user": {
      "displayName": "Andreza Costa",
      "userId": "11584279766690832610"
     },
     "user_tz": 180
    },
    "id": "xE5W4bbv-PKx",
    "outputId": "4df4decf-0159-44fb-b13a-a90178f5eb6f"
   },
   "outputs": [
    {
     "name": "stdout",
     "output_type": "stream",
     "text": [
      "18\n"
     ]
    }
   ],
   "source": [
    "y=10\n",
    "soma = x+y\n",
    "print(soma)"
   ]
  },
  {
   "cell_type": "code",
   "execution_count": null,
   "metadata": {
    "colab": {
     "base_uri": "https://localhost:8080/"
    },
    "executionInfo": {
     "elapsed": 11,
     "status": "ok",
     "timestamp": 1751390038810,
     "user": {
      "displayName": "Andreza Costa",
      "userId": "11584279766690832610"
     },
     "user_tz": 180
    },
    "id": "YpEmnhj2-fpq",
    "outputId": "cf34086f-25f7-4d03-a709-837c229f232e"
   },
   "outputs": [
    {
     "name": "stdout",
     "output_type": "stream",
     "text": [
      "Rodrigo Rebouças\n"
     ]
    }
   ],
   "source": [
    "nome = 'Rodrigo Rebouças'\n",
    "print(nome)"
   ]
  },
  {
   "cell_type": "markdown",
   "metadata": {
    "id": "7Qu-mlS3-05t"
   },
   "source": [
    "Concatenação"
   ]
  },
  {
   "cell_type": "code",
   "execution_count": null,
   "metadata": {
    "colab": {
     "base_uri": "https://localhost:8080/"
    },
    "executionInfo": {
     "elapsed": 27,
     "status": "ok",
     "timestamp": 1751390257980,
     "user": {
      "displayName": "Andreza Costa",
      "userId": "11584279766690832610"
     },
     "user_tz": 180
    },
    "id": "YKOyKb3Y_ZCL",
    "outputId": "993d3feb-b08c-4309-c7e5-55a387938b24"
   },
   "outputs": [
    {
     "name": "stdout",
     "output_type": "stream",
     "text": [
      "o valor de x é  5\n"
     ]
    }
   ],
   "source": [
    "x = 5\n",
    "print ('o valor de x é ',x)"
   ]
  },
  {
   "cell_type": "code",
   "execution_count": null,
   "metadata": {
    "colab": {
     "base_uri": "https://localhost:8080/"
    },
    "executionInfo": {
     "elapsed": 32,
     "status": "ok",
     "timestamp": 1751390320487,
     "user": {
      "displayName": "Andreza Costa",
      "userId": "11584279766690832610"
     },
     "user_tz": 180
    },
    "id": "B11wa5I8_oH3",
    "outputId": "ddcc72b5-5b93-4742-8080-6b6040266a41"
   },
   "outputs": [
    {
     "name": "stdout",
     "output_type": "stream",
     "text": [
      "o valor de x é 5 e o dobro é 10\n"
     ]
    }
   ],
   "source": [
    "print ('o valor de x é', x, 'e o dobro é',x*2)"
   ]
  },
  {
   "cell_type": "code",
   "execution_count": null,
   "metadata": {
    "colab": {
     "base_uri": "https://localhost:8080/"
    },
    "executionInfo": {
     "elapsed": 16,
     "status": "ok",
     "timestamp": 1751390708684,
     "user": {
      "displayName": "Andreza Costa",
      "userId": "11584279766690832610"
     },
     "user_tz": 180
    },
    "id": "PBd1TIfz_3YJ",
    "outputId": "921cd7fd-a50d-4003-e3ed-bef90ad4eb0e"
   },
   "outputs": [
    {
     "name": "stdout",
     "output_type": "stream",
     "text": [
      "Eu, Rodrigo Rebouças tirei 5 na prova de Python\n"
     ]
    }
   ],
   "source": [
    "print('Eu,', nome , 'tirei', x, 'na prova de Python')"
   ]
  },
  {
   "cell_type": "code",
   "execution_count": null,
   "metadata": {
    "colab": {
     "base_uri": "https://localhost:8080/"
    },
    "executionInfo": {
     "elapsed": 12,
     "status": "ok",
     "timestamp": 1751390497957,
     "user": {
      "displayName": "Andreza Costa",
      "userId": "11584279766690832610"
     },
     "user_tz": 180
    },
    "id": "H5whlPbLARxW",
    "outputId": "3d861af5-fc00-4d16-b609-53e76823d441"
   },
   "outputs": [
    {
     "name": "stdout",
     "output_type": "stream",
     "text": [
      "Declarar várias variáveis na mesma linha: 10 15\n"
     ]
    }
   ],
   "source": [
    "y = 10; z = 20+x-y\n",
    "print ('Declarar várias variáveis na mesma linha:',y,z)"
   ]
  },
  {
   "cell_type": "markdown",
   "metadata": {
    "id": "FJlw95GgBk8S"
   },
   "source": [
    "Type"
   ]
  },
  {
   "cell_type": "code",
   "execution_count": null,
   "metadata": {
    "colab": {
     "base_uri": "https://localhost:8080/"
    },
    "executionInfo": {
     "elapsed": 9,
     "status": "ok",
     "timestamp": 1751391009739,
     "user": {
      "displayName": "Andreza Costa",
      "userId": "11584279766690832610"
     },
     "user_tz": 180
    },
    "id": "ro3C-gR0BmPS",
    "outputId": "5a74b3e3-5e57-44b8-b514-c36940686b81"
   },
   "outputs": [
    {
     "name": "stdout",
     "output_type": "stream",
     "text": [
      "10 <class 'int'>\n",
      "Rodrigo <class 'str'>\n",
      "100 <class 'str'>\n",
      "100 <class 'int'>\n",
      "100.0 <class 'float'>\n"
     ]
    }
   ],
   "source": [
    "x=10\n",
    "type(x)\n",
    "print(x, type(x))\n",
    "\n",
    "nome= 'Rodrigo'\n",
    "print(nome, type(nome))\n",
    "\n",
    "num='100'\n",
    "num_convert= int(num) #convert variável\n",
    "print(num, type(num))\n",
    "print(num_convert, type(num_convert))\n",
    "\n",
    "num_float= float(num)\n",
    "print(num_float, type(num_float))"
   ]
  },
  {
   "cell_type": "markdown",
   "metadata": {
    "id": "C8E8lCaYC1Xf"
   },
   "source": [
    "** Input**\n",
    "- Armazenar a informação digitada pelo usuário em uma variável\n",
    "- o dado armazenado sempre será um texto\n",
    "- Quando o programa chega em uma linha com input(), ele ausa a execu'xão e espera o usuário digitar algo no teclado. O que foi digitado será retornado como uma string.\n"
   ]
  },
  {
   "cell_type": "code",
   "execution_count": null,
   "metadata": {
    "colab": {
     "base_uri": "https://localhost:8080/"
    },
    "executionInfo": {
     "elapsed": 4359,
     "status": "ok",
     "timestamp": 1751391539299,
     "user": {
      "displayName": "Andreza Costa",
      "userId": "11584279766690832610"
     },
     "user_tz": 180
    },
    "id": "RSh4-DYfCUCL",
    "outputId": "d15b2b0f-b940-45b4-9e68-b8ddbad1a4c7"
   },
   "outputs": [
    {
     "name": "stdout",
     "output_type": "stream",
     "text": [
      "Digite o nome do usuárioRodrigo\n",
      "Rodrigo\n"
     ]
    }
   ],
   "source": [
    "nome = input('Digite o nome do usuário') # Aguarda o usuário digitar algo\n",
    "print(nome)"
   ]
  },
  {
   "cell_type": "code",
   "execution_count": null,
   "metadata": {
    "colab": {
     "base_uri": "https://localhost:8080/"
    },
    "executionInfo": {
     "elapsed": 3870,
     "status": "ok",
     "timestamp": 1751391509900,
     "user": {
      "displayName": "Andreza Costa",
      "userId": "11584279766690832610"
     },
     "user_tz": 180
    },
    "id": "3VlalvVaDaIa",
    "outputId": "42c9e829-f876-4fc7-9f22-0bdee7c55c93"
   },
   "outputs": [
    {
     "name": "stdout",
     "output_type": "stream",
     "text": [
      "Digite a nota10\n",
      "Rodrigo sua nota foi 10\n"
     ]
    }
   ],
   "source": [
    "valor = input('Digite a nota')\n",
    "print(nome,'sua nota foi', valor)"
   ]
  },
  {
   "cell_type": "code",
   "execution_count": null,
   "metadata": {
    "colab": {
     "base_uri": "https://localhost:8080/"
    },
    "executionInfo": {
     "elapsed": 2987,
     "status": "ok",
     "timestamp": 1751391633074,
     "user": {
      "displayName": "Andreza Costa",
      "userId": "11584279766690832610"
     },
     "user_tz": 180
    },
    "id": "X8POQs5pEm34",
    "outputId": "d996ee2a-86af-4c59-999f-3dcd76d19771"
   },
   "outputs": [
    {
     "name": "stdout",
     "output_type": "stream",
     "text": [
      "Digite o valor do produto:50\n",
      "50\n"
     ]
    }
   ],
   "source": [
    "valor = input('Digite o valor do produto:')\n",
    "print(valor)"
   ]
  },
  {
   "cell_type": "code",
   "execution_count": null,
   "metadata": {
    "colab": {
     "base_uri": "https://localhost:8080/",
     "height": 144
    },
    "executionInfo": {
     "elapsed": 43,
     "status": "error",
     "timestamp": 1751391781195,
     "user": {
      "displayName": "Andreza Costa",
      "userId": "11584279766690832610"
     },
     "user_tz": 180
    },
    "id": "lCT_vnoXE4zA",
    "outputId": "46ccfa37-054c-42df-e323-24242c460a56"
   },
   "outputs": [
    {
     "ename": "TypeError",
     "evalue": "unsupported operand type(s) for -: 'str' and 'int'",
     "output_type": "error",
     "traceback": [
      "\u001b[0;31m---------------------------------------------------------------------------\u001b[0m",
      "\u001b[0;31mTypeError\u001b[0m                                 Traceback (most recent call last)",
      "\u001b[0;32m/tmp/ipython-input-30-2392987857.py\u001b[0m in \u001b[0;36m<cell line: 0>\u001b[0;34m()\u001b[0m\n\u001b[0;32m----> 1\u001b[0;31m \u001b[0mdesconto\u001b[0m \u001b[0;34m=\u001b[0m \u001b[0mvalor\u001b[0m \u001b[0;34m-\u001b[0m \u001b[0;36m5\u001b[0m\u001b[0;34m\u001b[0m\u001b[0;34m\u001b[0m\u001b[0m\n\u001b[0m",
      "\u001b[0;31mTypeError\u001b[0m: unsupported operand type(s) for -: 'str' and 'int'"
     ]
    }
   ],
   "source": [
    "desconto = valor - 5 # deu erro porque valor é uma str (texto), preciso converte-la em numero"
   ]
  },
  {
   "cell_type": "code",
   "execution_count": null,
   "metadata": {
    "colab": {
     "base_uri": "https://localhost:8080/"
    },
    "executionInfo": {
     "elapsed": 11,
     "status": "ok",
     "timestamp": 1751391889072,
     "user": {
      "displayName": "Andreza Costa",
      "userId": "11584279766690832610"
     },
     "user_tz": 180
    },
    "id": "9Jb-0w-XFb_k",
    "outputId": "ea8352cd-c3c5-4667-b5c0-189582eff49d"
   },
   "outputs": [
    {
     "name": "stdout",
     "output_type": "stream",
     "text": [
      "45\n"
     ]
    }
   ],
   "source": [
    "# convertendo a str (valor) em numero\n",
    "valor_convet = int(valor)\n",
    "desconto = valor_convet - 5\n",
    "print(desconto)"
   ]
  },
  {
   "cell_type": "code",
   "execution_count": null,
   "metadata": {
    "colab": {
     "base_uri": "https://localhost:8080/"
    },
    "executionInfo": {
     "elapsed": 12,
     "status": "ok",
     "timestamp": 1751391925045,
     "user": {
      "displayName": "Andreza Costa",
      "userId": "11584279766690832610"
     },
     "user_tz": 180
    },
    "id": "bMT0FZCPF5Qd",
    "outputId": "4a244219-c4a2-4b7b-9b97-7a0113a05322"
   },
   "outputs": [
    {
     "name": "stdout",
     "output_type": "stream",
     "text": [
      "45\n"
     ]
    }
   ],
   "source": [
    "# Ou\n",
    "desconto = int(valor) - 5\n",
    "print(desconto)"
   ]
  }
 ],
 "metadata": {
  "colab": {
   "authorship_tag": "ABX9TyMfpTT5aCE1xQNpJM3pfRrm",
   "provenance": []
  },
  "kernelspec": {
   "display_name": "Python 3",
   "name": "python3"
  },
  "language_info": {
   "name": "python"
  }
 },
 "nbformat": 4,
 "nbformat_minor": 0
}
